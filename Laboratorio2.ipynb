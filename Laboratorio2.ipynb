{
 "cells": [
  {
   "cell_type": "markdown",
   "id": "8764097a",
   "metadata": {},
   "source": [
    "![Logo](logoGalileo.png \"Logo\")\n",
    "***      \n",
    "# CIENCIA DE DATOS EN PYTHON SECCION *U*\n",
    "## *LABORATORIO # 2*\n",
    "##### **Pedro Josué Chamale Perez** - __23000478__"
   ]
  },
  {
   "cell_type": "markdown",
   "id": "b03f260c",
   "metadata": {},
   "source": [
    "    1.Haga un programa en Python que reciba de parámetro un número de segundos y que despliegue en pantalla, las horas,\n",
    "      minutos y segundos que representan."
   ]
  },
  {
   "cell_type": "code",
   "execution_count": 1,
   "id": "db091c43",
   "metadata": {},
   "outputs": [
    {
     "name": "stdout",
     "output_type": "stream",
     "text": [
      "Ingrese un número de segundos que desea evaluar: 5871\n",
      "Horas: 1, Minutos: 37, Segundos: 51\n"
     ]
    }
   ],
   "source": [
    "def descomponer(seg):\n",
    "    horas = int(seg /3600)\n",
    "    seg -= horas*3600\n",
    "    minutos = int(seg/60)\n",
    "    seg -= minutos*60\n",
    "    return print(f\"Horas: {horas:01d}, Minutos: {minutos:02d}, Segundos: {seg:02d}\")\n",
    "\n",
    "try:\n",
    "    #Ingrese el parámetro en segundos que desea evaluar\n",
    "    \n",
    "    parametro = int(input(\"Ingrese un número de segundos que desea evaluar: \"))\n",
    "    if parametro < 0:\n",
    "        print(\"Error, no existen tiempo negativos, por favor ingrese un valor de tiempo positivo\")\n",
    "    else:\n",
    "        descomponer(parametro)\n",
    "except NameError:\n",
    "  print(\"El parametro ingresado no está definido\")\n",
    "except TypeError:\n",
    "  print(\"El parametro ingresado no es de tipo entero\")\n",
    "except:\n",
    "  print(\"El parametro ingresado no es válido, se espera recibir una cantidad de segundos\")  \n",
    "    "
   ]
  },
  {
   "cell_type": "markdown",
   "id": "6c565b22",
   "metadata": {},
   "source": [
    "***\n",
    "    2.Haga una función en Python que dado un número entre 1 y 20. Y un carácter cualquiera\n",
    "      despliegue cuatro patrones triangulares."
   ]
  },
  {
   "cell_type": "code",
   "execution_count": 2,
   "id": "56068fef",
   "metadata": {},
   "outputs": [],
   "source": [
    "def caracteres(n, valor_caracter):\n",
    "    valor_caracter = str(valor_caracter)\n",
    "    n=int(n+1)\n",
    "    for i in range(1,n):\n",
    "        uno=valor_caracter*i\n",
    "        dos=valor_caracter*(n-i)\n",
    "        space=\" \"*10\n",
    "        espacios= \" \"*(n+1)\n",
    "        print(\"{} {} {} {} {} {:>2} {}{:^2}\".format(space,uno,espacios,dos,espacios,dos,espacios,uno))"
   ]
  },
  {
   "cell_type": "code",
   "execution_count": 3,
   "id": "ee834e17",
   "metadata": {},
   "outputs": [
    {
     "name": "stdout",
     "output_type": "stream",
     "text": [
      "           *        ****        ****       * \n",
      "           **        ***        ***       **\n",
      "           ***        **        **       ***\n",
      "           ****        *         *       ****\n"
     ]
    }
   ],
   "source": [
    "caracteres(4,\"*\")"
   ]
  },
  {
   "cell_type": "markdown",
   "id": "ca9a42f8",
   "metadata": {},
   "source": [
    "***\n",
    "    3.Haga un programa en Python que la fecha de nacimiento de una persona (puede ingresar por \n",
    "    separado cada valor, es decir pedir primero día, luego mes y luego año), despliegue la edad \n",
    "    de la persona en años, meses y días. Su resultado puede ser aproximado."
   ]
  },
  {
   "cell_type": "code",
   "execution_count": 4,
   "id": "97cc32e3",
   "metadata": {},
   "outputs": [
    {
     "name": "stdout",
     "output_type": "stream",
     "text": [
      "Ingrese su día de nacimiento: 23\n",
      "Ingrese su mes de nacimiento: 10\n",
      "Ingrese su año de nacimiento: 1995\n",
      " \n",
      "Usted tiene 27 años, 4 meses y 14 dias\n"
     ]
    }
   ],
   "source": [
    "from datetime import datetime\n",
    "\n",
    "def fecha_nacimiento(dia,mes,anio):\n",
    "        actual = datetime.now()\n",
    "        \n",
    "        if dia<0 or mes<0 or anio<0:\n",
    "            print(\" \")\n",
    "            print(\"Verifique los valores ingresados, Debe ingresar un valor entero positivo\")\n",
    "        else:\n",
    "            now = (actual.year*365)+(actual.month*30)+actual.day\n",
    "            age = (anio*365)+(mes*30)+dia\n",
    "            resultado = now -age\n",
    "            años = int(resultado/365)\n",
    "            meses = int((resultado/365-años)*12)\n",
    "            dias = int((((resultado/365-años)*12)-meses)*30)\n",
    "            print(\" \")\n",
    "            print(\"Usted tiene {} años, {} meses y {} dias\".format(años, meses,dias))\n",
    "try:        \n",
    "    a = int(input(\"Ingrese su día de nacimiento: \"))\n",
    "    b = int(input(\"Ingrese su mes de nacimiento: \"))\n",
    "    c = int(input(\"Ingrese su año de nacimiento: \"))\n",
    "    fecha_nacimiento(a,b,c)\n",
    "except:\n",
    "    print(\"Verifique el valor ingresado, no se aceptan caracteres, los valores deben ingresarse con numeros enteros\")"
   ]
  },
  {
   "cell_type": "markdown",
   "id": "6207340b",
   "metadata": {},
   "source": [
    "***\n",
    "    4.Escriba una función en Python que dada una tupla de elementos (números o letras) esta se\n",
    "      convierta a un string."
   ]
  },
  {
   "cell_type": "code",
   "execution_count": 5,
   "id": "6342d40c",
   "metadata": {},
   "outputs": [
    {
     "name": "stdout",
     "output_type": "stream",
     "text": [
      "5L40Truex01995-20-2\n"
     ]
    }
   ],
   "source": [
    "def cadena(tupla):\n",
    "    salida = ''\n",
    "    for i in tupla:\n",
    "        salida += str(i) \n",
    "    return print(salida)\n",
    "\n",
    "tupla = (5,'L',40,True,'x',0,'1995-20-2')\n",
    "cadena(tupla)"
   ]
  },
  {
   "cell_type": "markdown",
   "id": "2012c42d",
   "metadata": {},
   "source": [
    "***\n",
    "    5.Cree un programa en Python que dada una lista de tuplas, elimine las tuplas que están vacías."
   ]
  },
  {
   "cell_type": "code",
   "execution_count": 9,
   "id": "589e7f13",
   "metadata": {},
   "outputs": [
    {
     "name": "stdout",
     "output_type": "stream",
     "text": [
      "[(), (), (), ('X',), ('a', 'b'), (), ('a', 'b', 'c'), 'd']\n",
      "[('X',), ('a', 'b'), ('a', 'b', 'c'), 'd']\n"
     ]
    }
   ],
   "source": [
    "lista = [(),(),(),('X',), ('a', 'b'), (),('a', 'b', 'c'), ('d')] \n",
    "\n",
    "#Imprimiendo el array de listas\n",
    "\n",
    "print(lista)\n",
    "\n",
    "#Eliminando los espacios en blanco del array\n",
    "\n",
    "lista =[t for t in lista if t]\n",
    "print(lista)"
   ]
  },
  {
   "cell_type": "markdown",
   "id": "d3829971",
   "metadata": {},
   "source": [
    "***\n",
    "    6. Cree una función en Python que dada una tupla de tuplas con números, produzca una tupla\n",
    "       con el promedio de cada tupla individual."
   ]
  },
  {
   "cell_type": "code",
   "execution_count": 14,
   "id": "cbebbb84",
   "metadata": {},
   "outputs": [
    {
     "name": "stdout",
     "output_type": "stream",
     "text": [
      "(10.5, 44.0, 58.0)\n"
     ]
    }
   ],
   "source": [
    "tupla = ((10, 10, 10, 12), (30, 45, 56, 45), (81, 80, 39, 32))\n",
    "lista1 = []\n",
    "\n",
    "try:\n",
    "\n",
    "    for i in tupla:\n",
    "        suma=0\n",
    "        for j in i:\n",
    "            suma += j\n",
    "        promedio=suma/(len(tupla)+1)\n",
    "        lista1.append(promedio)\n",
    "\n",
    "    tupla1 = tuple(lista1)\n",
    "    print(tupla1)\n",
    "    \n",
    "except:\n",
    "    print(\"Los valores ingresados deben ser números enteros, verifique los elementos de la tupla ....\")"
   ]
  },
  {
   "cell_type": "markdown",
   "id": "6c3668cf",
   "metadata": {},
   "source": [
    "***\n",
    "    7.Escribir un programa que gestione las facturas pendientes de cobro de una empresa. Las facturas se almacenarán en un \n",
    "      diccionario donde la llave de cada factura será el número de factura (debe utilizar un numero de 4 dígitos) y el \n",
    "      valor, el coste de la factura. El programa debe preguntar al usuario si quiere añadir una nueva factura, pagar una\n",
    "      existente o terminar. Si desea añadir una nueva factura se preguntará por el número de factura y su coste y se añadirá \n",
    "      al diccionario, para confirmar que la factura se ingreso correctamente el programa debe desplegar el diccionario \n",
    "      completo. Si se desea pagar una factura se preguntará por el número de factura y se eliminará del diccionario. Después \n",
    "      de cada operación el programa debe mostrar en pantalla la cantidad cobrada hasta el momento y la cantidad pendiente de \n",
    "      cobro. Puede utilizar otras estructuras de datos como apoyo si lo considera necesario."
   ]
  },
  {
   "cell_type": "code",
   "execution_count": 139,
   "id": "864d8ffb",
   "metadata": {},
   "outputs": [
    {
     "name": "stdout",
     "output_type": "stream",
     "text": [
      "*#####################################################################################################################*\n",
      "*#####################################################################################################################*\n",
      "*##########################################     BIENVENIDO    ########################################################*\n",
      "*##########################################                   ########################################################*\n",
      "\n",
      "1.  Añadir Factura \n",
      "2.  Pagar Factura  \n",
      "3.  Terminar\n",
      "\n",
      "Ingrese el número de acción que desea realizar:    2\n",
      "Ingrese el número de factura que desea pagar: 5\n",
      "\n",
      "¡¡¡¡WARNING!!!\n",
      "El número de factura debe tener 4 dígitos\n",
      "\n",
      "{'0001': 50, '0002': 100, '0003': 200, '0004': 500, '0005': 2000}\n",
      "\n",
      "*#####################################################################################################################*\n",
      "*#####################################################################################################################*\n",
      "*##########################################     BIENVENIDO    ########################################################*\n",
      "*##########################################                   ########################################################*\n",
      "\n",
      "1.  Añadir Factura \n",
      "2.  Pagar Factura  \n",
      "3.  Terminar\n",
      "\n",
      "Ingrese el número de acción que desea realizar:    1\n",
      "Ingrese el número de factura: 5\n",
      "\n",
      "¡¡¡¡WARNING!!!\n",
      "El número de factura debe tener 4 dígitos\n",
      "\n",
      "{'0001': 50, '0002': 100, '0003': 200, '0004': 500, '0005': 2000}\n",
      "\n",
      "*#####################################################################################################################*\n",
      "*#####################################################################################################################*\n",
      "*##########################################     BIENVENIDO    ########################################################*\n",
      "*##########################################                   ########################################################*\n",
      "\n",
      "1.  Añadir Factura \n",
      "2.  Pagar Factura  \n",
      "3.  Terminar\n",
      "\n",
      "Ingrese el número de acción que desea realizar:    1\n",
      "Ingrese el número de factura: 0001\n",
      "El número de factura ya existe, ingrese un nuevo número de factura...\n",
      "\n",
      "{'0001': 50, '0002': 100, '0003': 200, '0004': 500, '0005': 2000}\n",
      "\n",
      "*#####################################################################################################################*\n",
      "*#####################################################################################################################*\n",
      "*##########################################     BIENVENIDO    ########################################################*\n",
      "*##########################################                   ########################################################*\n",
      "\n",
      "1.  Añadir Factura \n",
      "2.  Pagar Factura  \n",
      "3.  Terminar\n",
      "\n",
      "Ingrese el número de acción que desea realizar:    1\n",
      "Ingrese el número de factura: 0006\n",
      "Ingrese el costo de la factura: 157\n",
      "{'0001': 50, '0002': 100, '0003': 200, '0004': 500, '0005': 2000, '0006': 157}\n",
      "\n",
      "La cantidad pagada es de: 0\n",
      "La cantidad pendiente por cobrar es de: 3007\n",
      "\n",
      "*#####################################################################################################################*\n",
      "*#####################################################################################################################*\n",
      "*##########################################     BIENVENIDO    ########################################################*\n",
      "*##########################################                   ########################################################*\n",
      "\n",
      "1.  Añadir Factura \n",
      "2.  Pagar Factura  \n",
      "3.  Terminar\n",
      "\n",
      "Ingrese el número de acción que desea realizar:    2\n",
      "Ingrese el número de factura que desea pagar: 5\n",
      "\n",
      "¡¡¡¡WARNING!!!\n",
      "El número de factura debe tener 4 dígitos\n",
      "\n",
      "{'0001': 50, '0002': 100, '0003': 200, '0004': 500, '0005': 2000, '0006': 157}\n",
      "\n",
      "*#####################################################################################################################*\n",
      "*#####################################################################################################################*\n",
      "*##########################################     BIENVENIDO    ########################################################*\n",
      "*##########################################                   ########################################################*\n",
      "\n",
      "1.  Añadir Factura \n",
      "2.  Pagar Factura  \n",
      "3.  Terminar\n",
      "\n",
      "Ingrese el número de acción que desea realizar:    2\n",
      "Ingrese el número de factura que desea pagar: 0020\n",
      "El número de factura ingresado no existe, verifique el número ingresado\n",
      "\n",
      "{'0001': 50, '0002': 100, '0003': 200, '0004': 500, '0005': 2000, '0006': 157}\n",
      "\n",
      "*#####################################################################################################################*\n",
      "*#####################################################################################################################*\n",
      "*##########################################     BIENVENIDO    ########################################################*\n",
      "*##########################################                   ########################################################*\n",
      "\n",
      "1.  Añadir Factura \n",
      "2.  Pagar Factura  \n",
      "3.  Terminar\n",
      "\n",
      "Ingrese el número de acción que desea realizar:    2\n",
      "Ingrese el número de factura que desea pagar: 0001\n",
      "La cantidad pagada es: 50\n",
      "La cantidad pendiente por cobrar es de: 2957\n",
      "{'0002': 100, '0003': 200, '0004': 500, '0005': 2000, '0006': 157}\n",
      "\n",
      "*#####################################################################################################################*\n",
      "*#####################################################################################################################*\n",
      "*##########################################     BIENVENIDO    ########################################################*\n",
      "*##########################################                   ########################################################*\n",
      "\n",
      "1.  Añadir Factura \n",
      "2.  Pagar Factura  \n",
      "3.  Terminar\n",
      "\n",
      "Ingrese el número de acción que desea realizar:    2\n",
      "Ingrese el número de factura que desea pagar: 0035\n",
      "El número de factura ingresado no existe, verifique el número ingresado\n",
      "\n",
      "{'0002': 100, '0003': 200, '0004': 500, '0005': 2000, '0006': 157}\n",
      "\n",
      "*#####################################################################################################################*\n",
      "*#####################################################################################################################*\n",
      "*##########################################     BIENVENIDO    ########################################################*\n",
      "*##########################################                   ########################################################*\n",
      "\n",
      "1.  Añadir Factura \n",
      "2.  Pagar Factura  \n",
      "3.  Terminar\n",
      "\n",
      "Ingrese el número de acción que desea realizar:    2\n",
      "Ingrese el número de factura que desea pagar: 0006\n",
      "La cantidad pagada es: 207\n",
      "La cantidad pendiente por cobrar es de: 2800\n",
      "{'0002': 100, '0003': 200, '0004': 500, '0005': 2000}\n",
      "\n",
      "*#####################################################################################################################*\n",
      "*#####################################################################################################################*\n",
      "*##########################################     BIENVENIDO    ########################################################*\n",
      "*##########################################                   ########################################################*\n",
      "\n",
      "1.  Añadir Factura \n",
      "2.  Pagar Factura  \n",
      "3.  Terminar\n",
      "\n",
      "Ingrese el número de acción que desea realizar:    3\n"
     ]
    }
   ],
   "source": [
    "diccionario = {'0001':50,'0002':100,'0003':200, '0004':500,'0005':2000}\n",
    "pagado = 0\n",
    "pendiente = sum(diccionario[x] for x in diccionario)\n",
    "\n",
    "while True:\n",
    "    print(\"*#####################################################################################################################*\")\n",
    "    print(\"*#####################################################################################################################*\")\n",
    "    print(\"*##########################################     BIENVENIDO    ########################################################*\")\n",
    "    print(\"*##########################################                   ########################################################*\")\n",
    "    print()\n",
    "    print(\"1.  Añadir Factura \")\n",
    "    print(\"2.  Pagar Factura  \")\n",
    "    print(\"3.  Terminar\")\n",
    "    print()\n",
    "    operacion = str(input(\"Ingrese el número de acción que desea realizar:    \"))\n",
    "        \n",
    "    if operacion=='1':\n",
    "        codigo = str(input(\"Ingrese el número de factura: \"))\n",
    "        if len(codigo) != 4:\n",
    "            print()\n",
    "            print(\"¡¡¡¡WARNING!!!\")\n",
    "            print(\"El número de factura debe tener 4 dígitos\")\n",
    "            print()\n",
    "            print(diccionario)\n",
    "            print()\n",
    "        elif codigo in diccionario.keys():\n",
    "            print(\"El número de factura ya existe, ingrese un nuevo número de factura...\")\n",
    "            print()\n",
    "            print(diccionario)\n",
    "            print()\n",
    "        else:\n",
    "            valor = int(input(\"Ingrese el costo de la factura: \"))\n",
    "            diccionario.setdefault(codigo,valor)\n",
    "            print(diccionario)\n",
    "            print()\n",
    "            pendiente=sum(diccionario[x] for x in diccionario)\n",
    "            print(\"La cantidad pagada es de: \" + str(pagado))\n",
    "            print(\"La cantidad pendiente por cobrar es de: \" + str(pendiente))\n",
    "            print()\n",
    "    if operacion == '2':\n",
    "        pagar = str(input(\"Ingrese el número de factura que desea pagar: \"))\n",
    "        if len(pagar) != 4:\n",
    "            print()\n",
    "            print(\"¡¡¡¡WARNING!!!\")\n",
    "            print(\"El número de factura debe tener 4 dígitos\")\n",
    "            print()\n",
    "            print(diccionario)\n",
    "            print()\n",
    "        elif pagar in diccionario.keys():\n",
    "            pagado = pagado + diccionario[pagar]\n",
    "            print(\"La cantidad pagada es: \" + str(pagado))\n",
    "            del diccionario[pagar]\n",
    "            pendiente=sum(diccionario[x] for x in diccionario)\n",
    "            print(\"La cantidad pendiente por cobrar es de: \" + str(pendiente))\n",
    "            print\n",
    "            print(diccionario)\n",
    "            print()\n",
    "        else:\n",
    "            print(\"El número de factura ingresado no existe, verifique el número ingresado\")\n",
    "            print()\n",
    "            print(diccionario)\n",
    "            print()\n",
    "    if operacion == '3':\n",
    "        break\n",
    "        \n",
    "    "
   ]
  },
  {
   "cell_type": "markdown",
   "id": "ee973614",
   "metadata": {},
   "source": [
    "***    \n",
    "    8.Haga una función en Python, que cree un set con todas las cartas de una baraja de Pocker utilizando el siguiente \n",
    "    formato:\n",
    "    \n",
    "    Tipo-Numero. Utilice las letras T para tréboles, C para corazones, P para picas y E para espadas. Para los números \n",
    "    utilice la numeración del 1 al 13. Por ejemplo E13 - sería Rey de Espadas, P01 sería As de Picas, T05 sería cinco de \n",
    "    Tréboles."
   ]
  },
  {
   "cell_type": "code",
   "execution_count": 83,
   "id": "d1c1e642",
   "metadata": {},
   "outputs": [
    {
     "name": "stdout",
     "output_type": "stream",
     "text": [
      "['T01', 'T02', 'T03', 'T04', 'T05', 'T06', 'T07', 'T08', 'T09', 'T10', 'T11', 'T12', 'T13', 'C01', 'C02', 'C03', 'C04', 'C05', 'C06', 'C07', 'C08', 'C09', 'C10', 'C11', 'C12', 'C13', 'P01', 'P02', 'P03', 'P04', 'P05', 'P06', 'P07', 'P08', 'P09', 'P10', 'P11', 'P12', 'P13', 'E01', 'E02', 'E03', 'E04', 'E05', 'E06', 'E07', 'E08', 'E09', 'E10', 'E11', 'E12', 'E13']\n"
     ]
    }
   ],
   "source": [
    "import random\n",
    "\n",
    "Tipos = ['T','C','P','E']\n",
    "Numeros = ['01','02','03','04','05','06','07','08','09','10','11','12','13']\n",
    "S= []\n",
    "\n",
    "#Ciclo para generar cada uno de los tipos de cartas con la númeración\n",
    "\n",
    "#Tipos\n",
    "\n",
    "for carta in Tipos:\n",
    "    \n",
    "    #Numeros\n",
    "    \n",
    "    for numeracion in Numeros:\n",
    "        \n",
    "        #Agregando carta por carta al mazo total\n",
    "        \n",
    "        S.append(carta + numeracion)\n",
    "        \n",
    "print(S)"
   ]
  },
  {
   "cell_type": "markdown",
   "id": "fd0e845f",
   "metadata": {},
   "source": [
    "Posteriormente cree una función que dado el conjunto anterior cree dos sets nuevos de cartas, cada conjunto debe tener una\n",
    "cantidad variable de elementos, puede utilizar números aleatorios enteros para definir la longitud de los conjuntos."
   ]
  },
  {
   "cell_type": "code",
   "execution_count": 84,
   "id": "62a52c01",
   "metadata": {},
   "outputs": [
    {
     "name": "stdout",
     "output_type": "stream",
     "text": [
      "====================================================\n",
      "Primer Set de datos aleatorio:  \n",
      "\n",
      "['C13', 'E03', 'E02', 'P02', 'E08', 'E06', 'C12', 'E11', 'T11', 'E12', 'T04', 'C11', 'E04', 'T01', 'P03', 'T05', 'E05']\n",
      "\n",
      "La longitud del primer set es: 17         La probabilidad de A es: 0.33\n",
      "====================================================\n",
      "Segundo Set de datos aleatorio:  \n",
      "\n",
      "['P05', 'T10', 'P02', 'T09', 'E07', 'T01', 'C13', 'E11', 'T03']\n",
      "\n",
      "La longitud del segundo set es: 9         La probabilidad de B es: 0.17\n",
      "====================================================\n"
     ]
    }
   ],
   "source": [
    "#Generando el primer set de datos, de manera aleatoria de tamaño variable\n",
    "print(\"====================================================\")\n",
    "print(\"Primer Set de datos aleatorio:  \")\n",
    "print()\n",
    "A = random.sample(S,random.randint(0,51))\n",
    "P_A = len(A)/len(S)\n",
    "print(A)\n",
    "print()\n",
    "print(\"La longitud del primer set es: {}         La probabilidad de A es: {:.2}\".format(len(A),P_A))\n",
    "print(\"====================================================\")\n",
    "print(\"Segundo Set de datos aleatorio:  \")\n",
    "print()\n",
    "B = random.sample(S,random.randint(0,51))\n",
    "P_B = len(B)/len(S)\n",
    "print(B)\n",
    "print()\n",
    "print(\"La longitud del segundo set es: {}         La probabilidad de B es: {:.2}\".format(len(B),P_B))\n",
    "print(\"====================================================\")"
   ]
  },
  {
   "cell_type": "markdown",
   "id": "68abbb21",
   "metadata": {},
   "source": [
    "Adicionalmente, deberá calcular la probabilidad de la intersección de ambos conjuntos y demuestre si son eventos independientes\n",
    "con la regla del producto."
   ]
  },
  {
   "cell_type": "code",
   "execution_count": 90,
   "id": "1e9ee3f6",
   "metadata": {},
   "outputs": [
    {
     "name": "stdout",
     "output_type": "stream",
     "text": [
      "{'T01', 'C13', 'E11', 'P02'} 4\n",
      "\n",
      "La probabilidad A interseccion B es : 0.057\n"
     ]
    }
   ],
   "source": [
    "A= set(A)\n",
    "B = set(B)\n",
    "print(A & B, len(A & B))\n",
    "print()\n",
    "print(\"La probabilidad A interseccion B es : {:.2}\".format(P_A * P_B))"
   ]
  },
  {
   "cell_type": "markdown",
   "id": "a10a879c",
   "metadata": {},
   "source": [
    "Para concluir, calcule probabilidad de la unión de ambos conjuntos y demuestre que se cumple la regla de la adición."
   ]
  },
  {
   "cell_type": "code",
   "execution_count": 91,
   "id": "3a2c6a74",
   "metadata": {},
   "outputs": [
    {
     "name": "stdout",
     "output_type": "stream",
     "text": [
      "{'E02', 'E12', 'E08', 'C12', 'E05', 'T03', 'T04', 'T01', 'T10', 'T11', 'P02', 'C11', 'P05', 'T05', 'E11', 'E06', 'T09', 'E07', 'E03', 'E04', 'C13', 'P03'} 22\n",
      "\n",
      "La probabilidad de A union B es: 0.44\n"
     ]
    }
   ],
   "source": [
    "A_U_B = (A|B)\n",
    "print(A_U_B, len(A_U_B))\n",
    "print()\n",
    "print(\"La probabilidad de A union B es: {:.2}\".format(P_A + P_B -(P_A*P_B)))"
   ]
  },
  {
   "cell_type": "markdown",
   "id": "67d12fe8",
   "metadata": {},
   "source": [
    "***\n"
   ]
  }
 ],
 "metadata": {
  "kernelspec": {
   "display_name": "Python 3 (ipykernel)",
   "language": "python",
   "name": "python3"
  },
  "language_info": {
   "codemirror_mode": {
    "name": "ipython",
    "version": 3
   },
   "file_extension": ".py",
   "mimetype": "text/x-python",
   "name": "python",
   "nbconvert_exporter": "python",
   "pygments_lexer": "ipython3",
   "version": "3.9.13"
  }
 },
 "nbformat": 4,
 "nbformat_minor": 5
}
